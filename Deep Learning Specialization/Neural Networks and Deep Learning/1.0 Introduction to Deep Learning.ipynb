{
 "cells": [
  {
   "cell_type": "markdown",
   "id": "velvet-greeting",
   "metadata": {},
   "source": [
    "# Introduction to Deep Learning"
   ]
  },
  {
   "cell_type": "markdown",
   "id": "stone-breathing",
   "metadata": {},
   "source": [
    "## What is a Neural Network?"
   ]
  },
  {
   "cell_type": "markdown",
   "id": "turkish-moral",
   "metadata": {},
   "source": [
    "## Supervised Learning with Neural Networks"
   ]
  },
  {
   "cell_type": "markdown",
   "id": "hollow-laser",
   "metadata": {},
   "source": []
  }
 ],
 "metadata": {
  "kernelspec": {
   "display_name": "Python 3",
   "language": "python",
   "name": "python3"
  },
  "language_info": {
   "codemirror_mode": {
    "name": "ipython",
    "version": 3
   },
   "file_extension": ".py",
   "mimetype": "text/x-python",
   "name": "python",
   "nbconvert_exporter": "python",
   "pygments_lexer": "ipython3",
   "version": "3.7.9"
  }
 },
 "nbformat": 4,
 "nbformat_minor": 5
}
