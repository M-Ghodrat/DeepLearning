{
 "cells": [
  {
   "cell_type": "markdown",
   "id": "technical-toddler",
   "metadata": {},
   "source": [
    "# Shallow Neural Networks"
   ]
  },
  {
   "cell_type": "markdown",
   "id": "exotic-peripheral",
   "metadata": {},
   "source": [
    "## Neural Networks Overview"
   ]
  },
  {
   "cell_type": "markdown",
   "id": "introductory-bangladesh",
   "metadata": {},
   "source": [
    "## Neural Network Representation"
   ]
  },
  {
   "cell_type": "markdown",
   "id": "joined-frequency",
   "metadata": {},
   "source": [
    "## Computing a Neural Network's Output"
   ]
  },
  {
   "cell_type": "markdown",
   "id": "middle-chase",
   "metadata": {},
   "source": [
    "## Vectorizing Across Multiple Examples"
   ]
  },
  {
   "cell_type": "markdown",
   "id": "solar-milwaukee",
   "metadata": {},
   "source": [
    "## Explanation for Vectorized Implementation"
   ]
  },
  {
   "cell_type": "markdown",
   "id": "unable-avatar",
   "metadata": {},
   "source": [
    "## Activation Functions"
   ]
  },
  {
   "cell_type": "markdown",
   "id": "acting-grave",
   "metadata": {},
   "source": [
    "## Why do you need Non-Linear Activation Functions?"
   ]
  },
  {
   "cell_type": "markdown",
   "id": "reported-mobility",
   "metadata": {},
   "source": [
    "## Derivatives of Activation Functions"
   ]
  },
  {
   "cell_type": "markdown",
   "id": "reduced-station",
   "metadata": {},
   "source": [
    "## Gradient Descent for Neural Networks"
   ]
  },
  {
   "cell_type": "markdown",
   "id": "automatic-education",
   "metadata": {},
   "source": [
    "## Backpropagation Intuition "
   ]
  },
  {
   "cell_type": "markdown",
   "id": "natural-guard",
   "metadata": {},
   "source": [
    "## Random Initialization"
   ]
  },
  {
   "cell_type": "code",
   "execution_count": null,
   "id": "diverse-honolulu",
   "metadata": {},
   "outputs": [],
   "source": []
  }
 ],
 "metadata": {
  "kernelspec": {
   "display_name": "Python 3",
   "language": "python",
   "name": "python3"
  },
  "language_info": {
   "codemirror_mode": {
    "name": "ipython",
    "version": 3
   },
   "file_extension": ".py",
   "mimetype": "text/x-python",
   "name": "python",
   "nbconvert_exporter": "python",
   "pygments_lexer": "ipython3",
   "version": "3.7.9"
  }
 },
 "nbformat": 4,
 "nbformat_minor": 5
}
