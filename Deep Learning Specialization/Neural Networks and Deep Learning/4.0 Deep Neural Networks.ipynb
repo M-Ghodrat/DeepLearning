{
 "cells": [
  {
   "cell_type": "markdown",
   "id": "described-ballet",
   "metadata": {},
   "source": [
    "# Deep Neural Networks"
   ]
  },
  {
   "cell_type": "markdown",
   "id": "forward-spouse",
   "metadata": {},
   "source": [
    "## Deep L-layer Neural Network"
   ]
  },
  {
   "cell_type": "markdown",
   "id": "going-attitude",
   "metadata": {},
   "source": [
    "## Forward Propagation in a Deep Network"
   ]
  },
  {
   "cell_type": "markdown",
   "id": "cellular-processing",
   "metadata": {},
   "source": [
    "## Getting your Matrix Dimensions Right"
   ]
  },
  {
   "cell_type": "markdown",
   "id": "animal-negotiation",
   "metadata": {},
   "source": [
    "## Why Deep Representations?"
   ]
  },
  {
   "cell_type": "markdown",
   "id": "descending-visiting",
   "metadata": {},
   "source": [
    "## Building Blocks of Deep Neural Networks"
   ]
  },
  {
   "cell_type": "markdown",
   "id": "developed-provincial",
   "metadata": {},
   "source": [
    "## Forward and Backward Propagation"
   ]
  },
  {
   "cell_type": "markdown",
   "id": "pretty-incentive",
   "metadata": {},
   "source": [
    "## Parameters vs Hyperparameters"
   ]
  },
  {
   "cell_type": "code",
   "execution_count": null,
   "id": "abroad-tower",
   "metadata": {},
   "outputs": [],
   "source": []
  }
 ],
 "metadata": {
  "kernelspec": {
   "display_name": "Python 3",
   "language": "python",
   "name": "python3"
  },
  "language_info": {
   "codemirror_mode": {
    "name": "ipython",
    "version": 3
   },
   "file_extension": ".py",
   "mimetype": "text/x-python",
   "name": "python",
   "nbconvert_exporter": "python",
   "pygments_lexer": "ipython3",
   "version": "3.7.9"
  }
 },
 "nbformat": 4,
 "nbformat_minor": 5
}
