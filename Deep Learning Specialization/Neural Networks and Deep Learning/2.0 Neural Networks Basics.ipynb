{
 "cells": [
  {
   "cell_type": "markdown",
   "id": "hearing-anchor",
   "metadata": {},
   "source": [
    "# Neural Networks Basics"
   ]
  },
  {
   "cell_type": "markdown",
   "id": "acceptable-scientist",
   "metadata": {},
   "source": [
    "## Binary Classification\n",
    "\n",
    "[Video Link](https://youtu.be/eqEc66RFY0I)"
   ]
  },
  {
   "cell_type": "markdown",
   "id": "systematic-scientist",
   "metadata": {},
   "source": [
    "## Logistic Regression\n",
    "\n",
    "[Video Link](https://youtu.be/hjrYrynGWGA)"
   ]
  },
  {
   "cell_type": "markdown",
   "id": "quantitative-spectacular",
   "metadata": {},
   "source": [
    "## Logistic Regression Cost Function\n",
    "\n",
    "[Video Link](https://youtu.be/SHEPb1JHw5o)"
   ]
  },
  {
   "cell_type": "markdown",
   "id": "integral-worst",
   "metadata": {},
   "source": [
    "## Gradient Descent\n",
    "\n",
    "[Video Link](https://youtu.be/uJryes5Vk1o)"
   ]
  },
  {
   "cell_type": "markdown",
   "id": "great-namibia",
   "metadata": {},
   "source": [
    "## Derivatives\n",
    "\n",
    "[Video Link](https://youtu.be/GzphoJOVEcE)"
   ]
  },
  {
   "cell_type": "markdown",
   "id": "serial-scholarship",
   "metadata": {},
   "source": [
    "## More Derivative Examples\n",
    "\n",
    "[Video Link](https://youtu.be/5H7M5Vd3-pk)\n"
   ]
  },
  {
   "cell_type": "markdown",
   "id": "political-chassis",
   "metadata": {},
   "source": [
    "## Computation Graph\n",
    "\n",
    "[Video Link](https://youtu.be/hCP1vGoCdYU)"
   ]
  },
  {
   "cell_type": "markdown",
   "id": "subject-pittsburgh",
   "metadata": {},
   "source": [
    "## Derivatives with a Computation Graph\n",
    "\n",
    "[Video Link](https://youtu.be/nJyUyKN-XBQ)"
   ]
  },
  {
   "cell_type": "markdown",
   "id": "harmful-mouse",
   "metadata": {},
   "source": [
    "## Logistic Regression Gradient Descent\n",
    "\n",
    "[Video Link](https://youtu.be/z_xiwjEdAC4)"
   ]
  },
  {
   "cell_type": "markdown",
   "id": "primary-punishment",
   "metadata": {},
   "source": [
    "## Gradient Descent on m Examples\n",
    "\n",
    "[Video Link](https://youtu.be/KKfZLXcF-aE)"
   ]
  },
  {
   "cell_type": "markdown",
   "id": "interested-floor",
   "metadata": {},
   "source": [
    "## Vectorization\n",
    "\n",
    "[Video Link](https://youtu.be/qsIrQi0fzbY)"
   ]
  },
  {
   "cell_type": "markdown",
   "id": "vertical-priest",
   "metadata": {},
   "source": [
    "## Vectorizing Logistic Regression\n",
    "\n",
    "[Video Link](https://youtu.be/pYWASRauTzs)"
   ]
  },
  {
   "cell_type": "markdown",
   "id": "regulation-saudi",
   "metadata": {},
   "source": [
    "## Vectorizing Logistic Regression's Gradient Computation\n",
    "\n",
    "[Video Link](https://youtu.be/2BkqApHKwn0)"
   ]
  },
  {
   "cell_type": "markdown",
   "id": "binary-watts",
   "metadata": {},
   "source": [
    "## Broadcasting in Python\n",
    "\n",
    "[Video Link](https://youtu.be/tKcLaGdvabM)"
   ]
  },
  {
   "cell_type": "code",
   "execution_count": null,
   "id": "controlling-memorabilia",
   "metadata": {},
   "outputs": [],
   "source": []
  }
 ],
 "metadata": {
  "kernelspec": {
   "display_name": "Python 3",
   "language": "python",
   "name": "python3"
  },
  "language_info": {
   "codemirror_mode": {
    "name": "ipython",
    "version": 3
   },
   "file_extension": ".py",
   "mimetype": "text/x-python",
   "name": "python",
   "nbconvert_exporter": "python",
   "pygments_lexer": "ipython3",
   "version": "3.7.9"
  }
 },
 "nbformat": 4,
 "nbformat_minor": 5
}
