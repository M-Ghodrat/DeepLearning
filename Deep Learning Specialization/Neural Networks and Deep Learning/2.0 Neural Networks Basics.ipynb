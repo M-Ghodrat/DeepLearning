{
 "cells": [
  {
   "cell_type": "markdown",
   "id": "hearing-anchor",
   "metadata": {},
   "source": [
    "# Neural Networks Basics"
   ]
  },
  {
   "cell_type": "markdown",
   "id": "acceptable-scientist",
   "metadata": {},
   "source": [
    "## Binary Classification"
   ]
  },
  {
   "cell_type": "markdown",
   "id": "systematic-scientist",
   "metadata": {},
   "source": [
    "## Logistic Regression"
   ]
  },
  {
   "cell_type": "markdown",
   "id": "quantitative-spectacular",
   "metadata": {},
   "source": [
    "## Logistic Regression Cost Function"
   ]
  },
  {
   "cell_type": "markdown",
   "id": "integral-worst",
   "metadata": {},
   "source": [
    "## Gradient Descent"
   ]
  },
  {
   "cell_type": "markdown",
   "id": "great-namibia",
   "metadata": {},
   "source": [
    "## Derivatives"
   ]
  },
  {
   "cell_type": "markdown",
   "id": "political-chassis",
   "metadata": {},
   "source": [
    "## Computation Graph"
   ]
  },
  {
   "cell_type": "markdown",
   "id": "subject-pittsburgh",
   "metadata": {},
   "source": [
    "## Derivatives with a Computation Graph"
   ]
  },
  {
   "cell_type": "markdown",
   "id": "harmful-mouse",
   "metadata": {},
   "source": [
    "## Logistic Regression Gradient Descent"
   ]
  },
  {
   "cell_type": "markdown",
   "id": "interested-floor",
   "metadata": {},
   "source": [
    "## Vectorization"
   ]
  },
  {
   "cell_type": "markdown",
   "id": "vertical-priest",
   "metadata": {},
   "source": [
    "## Vectorizing Logistic Regression"
   ]
  },
  {
   "cell_type": "markdown",
   "id": "regulation-saudi",
   "metadata": {},
   "source": [
    "## Vectorizing Logistic Regression's Gradient Output"
   ]
  },
  {
   "cell_type": "markdown",
   "id": "binary-watts",
   "metadata": {},
   "source": [
    "## Broadcasting in Python"
   ]
  },
  {
   "cell_type": "code",
   "execution_count": null,
   "id": "controlling-memorabilia",
   "metadata": {},
   "outputs": [],
   "source": []
  }
 ],
 "metadata": {
  "kernelspec": {
   "display_name": "Python 3",
   "language": "python",
   "name": "python3"
  },
  "language_info": {
   "codemirror_mode": {
    "name": "ipython",
    "version": 3
   },
   "file_extension": ".py",
   "mimetype": "text/x-python",
   "name": "python",
   "nbconvert_exporter": "python",
   "pygments_lexer": "ipython3",
   "version": "3.7.9"
  }
 },
 "nbformat": 4,
 "nbformat_minor": 5
}
