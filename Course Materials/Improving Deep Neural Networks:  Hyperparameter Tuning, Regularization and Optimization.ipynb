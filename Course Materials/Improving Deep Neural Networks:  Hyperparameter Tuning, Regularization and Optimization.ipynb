{
 "cells": [
  {
   "cell_type": "markdown",
   "id": "intellectual-audience",
   "metadata": {},
   "source": [
    "# Improving Deep Neural Networks:  Hyperparameter Tuning, Regularization and Optimization"
   ]
  },
  {
   "cell_type": "markdown",
   "id": "hindu-operations",
   "metadata": {},
   "source": [
    "## Hyperparameters:\n",
    "\n",
    "- ? \n",
    "- ?\n",
    "- ?"
   ]
  },
  {
   "cell_type": "markdown",
   "id": "agricultural-lincoln",
   "metadata": {},
   "source": [
    "# Regularization techniques\n",
    "\n",
    "- L1\n",
    "- L2\n",
    "- Dropout\n",
    "- Data Augmentation\n",
    "- Early Stopping\n"
   ]
  },
  {
   "cell_type": "markdown",
   "id": "intensive-cricket",
   "metadata": {},
   "source": [
    "## Dropout:\n",
    "\n",
    "- Dropout is a regularization algorithm in which we randomally drop several weights (=0) for each layer during training process.\n",
    "- Dropout is used to spread out the effect of an individual weight through all weights, so that the final model does not exclusively rely on specific weights. \n",
    "- Inverse dropout (`/Keep-prob`) is used to make sure the expected values of Neurons remain same, otherwise, we have to perform more scaling during test time.\n",
    "- We do not normally do dropout during test, however, if we insist, we have to dropout and run several times and finally average over them which is computationally inefficient."
   ]
  },
  {
   "cell_type": "markdown",
   "id": "decreased-applicant",
   "metadata": {},
   "source": [
    "## Bias vs Variance\n",
    "\n",
    "$$\n",
    "\\begin{matrix}\n",
    "\\begin{matrix}{} \\\\ High~Bias?\\end{matrix} & \\begin{matrix}Yes \\\\ \\longrightarrow \\end{matrix} & \\begin{matrix} {} \\\\ Bigger~Network \\end{matrix} \\\\\n",
    "& & Train~Longer~(cost~function~reaches~global~minimum) \\\\\n",
    "& & (NN~architecture~search) \\\\\n",
    "& & \\\\\n",
    "\\downarrow~ No& & \\\\\n",
    "\\begin{matrix}{} \\\\ High~Variance?\\end{matrix} & \\begin{matrix}Yes \\\\ \\longrightarrow \\end{matrix} & \\begin{matrix} {} \\\\ More~Data \\end{matrix} \\\\\n",
    "& & Regularization \\\\\n",
    "& & (NN~architecture~search) \\\\\n",
    "\\downarrow~ No& & \\\\\n",
    "Done! \\checkmark & &\n",
    "\\end{matrix}\n",
    "$$"
   ]
  },
  {
   "cell_type": "code",
   "execution_count": null,
   "id": "bearing-campus",
   "metadata": {},
   "outputs": [],
   "source": []
  }
 ],
 "metadata": {
  "kernelspec": {
   "display_name": "Python 3",
   "language": "python",
   "name": "python3"
  },
  "language_info": {
   "codemirror_mode": {
    "name": "ipython",
    "version": 3
   },
   "file_extension": ".py",
   "mimetype": "text/x-python",
   "name": "python",
   "nbconvert_exporter": "python",
   "pygments_lexer": "ipython3",
   "version": "3.7.7"
  }
 },
 "nbformat": 4,
 "nbformat_minor": 5
}
